{
 "cells": [
  {
   "cell_type": "markdown",
   "metadata": {},
   "source": [
    "# Quick Start"
   ]
  },
  {
   "cell_type": "markdown",
   "metadata": {},
   "source": [
    "install:\n",
    "VimbaX_Setup-2025-1-Win64.exe\n",
    "install vmbpy\n",
    "python env\n",
    "\n",
    "camera connects to the fastest USB port (at least 3.0)\n"
   ]
  },
  {
   "cell_type": "markdown",
   "metadata": {},
   "source": [
    "# Launch System"
   ]
  },
  {
   "cell_type": "code",
   "execution_count": null,
   "metadata": {},
   "outputs": [],
   "source": [
    "python .\\gui\\MyWeedGUI.py "
   ]
  },
  {
   "cell_type": "markdown",
   "metadata": {},
   "source": [
    "python arduino_code/valve_control/valve_serial_send_port1.py\n",
    "\n",
    "python arduino_code/valve_control/valve_serial_send_port2.py\n"
   ]
  },
  {
   "cell_type": "markdown",
   "metadata": {},
   "source": [
    "\n",
    " vimba camera setup\n",
    "\n",
    " detection model load\n",
    "\n",
    " python gui/MyWeedGUI.py\n"
   ]
  },
  {
   "cell_type": "markdown",
   "metadata": {},
   "source": [
    " \n",
    " reboot curcuitpython: code.py, boot.py\n",
    "\n",
    " sudo screen -L -Logfile /home/weeding/WeedRobot/farmng_amigacontrol/amiga_control/states.txt /dev/ttyACM2 115200\n",
    "\n",
    "or\n",
    "\n",
    " python amiga_control/amiga_serial_read.py"
   ]
  },
  {
   "cell_type": "markdown",
   "metadata": {},
   "source": [
    "## Debug"
   ]
  },
  {
   "cell_type": "code",
   "execution_count": null,
   "metadata": {},
   "outputs": [],
   "source": [
    "from matplotlib import pyplot as plt"
   ]
  },
  {
   "cell_type": "markdown",
   "metadata": {},
   "source": [
    "# Calibration"
   ]
  },
  {
   "cell_type": "markdown",
   "metadata": {},
   "source": [
    "set two white patches on nozzle 1 and 12, adjust the setting to align the nozzles with display image\n",
    "\n",
    "                self.set_nearest_value(cam, 'Width', 2264)\n",
    "                self.set_nearest_value(cam, 'OffsetX', 200)\n"
   ]
  },
  {
   "cell_type": "markdown",
   "metadata": {},
   "source": [
    "# Metric"
   ]
  },
  {
   "cell_type": "markdown",
   "metadata": {},
   "source": [
    "labelme  to label polygon for spraying region and target region, then calculate IoU\n",
    "\n",
    "video_frame_extraction.py\n",
    "\n",
    "IoU_polygon.ipynb"
   ]
  },
  {
   "cell_type": "markdown",
   "metadata": {},
   "source": [
    "# Viewer"
   ]
  },
  {
   "cell_type": "markdown",
   "metadata": {},
   "source": [
    "/home/weeding/WeedRobot/Vimba_6_0/Tools/Viewer/Bin/x86_64bit/\n",
    "\n",
    "/home/weeding/WeedRobot/Vimba/VimbaX_2023-4/bin/VimbaXViewer"
   ]
  },
  {
   "cell_type": "markdown",
   "metadata": {},
   "source": [
    "# Website"
   ]
  },
  {
   "cell_type": "markdown",
   "metadata": {},
   "source": [
    "https://github.com/alliedvision/VmbPy"
   ]
  },
  {
   "cell_type": "markdown",
   "metadata": {},
   "source": [
    "# Vimba Install"
   ]
  },
  {
   "cell_type": "markdown",
   "metadata": {},
   "source": [
    "cd /home/weeding/WeedRobot/VimbaX_2023-4/cti/\n",
    "\n",
    "sudo ./VimbaUSBTL_Install.sh\n",
    "\n",
    "reboot"
   ]
  },
  {
   "cell_type": "markdown",
   "metadata": {},
   "source": [
    "memory\n",
    "sudo sh -c 'echo 1000 > /sys/module/usbcore/parameters/usbfs_memory_mb'\n",
    "cat /sys/module/usbcore/parameters/usbfs_memory_mb\n",
    "\n",
    "transport layer\n",
    "~/.bashrc\n",
    "export GENICAM_GENTL64_PATH=$GENICAM_GENTL64_PATH:\"/home/weeding/WeedRobot/VimbaX_2023-4/cti/\"\n",
    "source ~/.bashrc\n",
    "\n",
    "unspecified GenTL runtime error\n",
    "unplug USB cable of the camera and replug\n",
    "\n",
    "vmbpy.error.VmbSystemError: Failed to load library '/home/weeding/WeedRobot/VimbaX_2023-4/api/lib/libVmbC.so'. Please verify VimbaX installation.\n",
    "change to correct path, do not move the folder after registeration"
   ]
  },
  {
   "cell_type": "markdown",
   "metadata": {},
   "source": [
    "Can't decide which to select: ['/home/weeding/WeedRobot/VimbaX_2023-4', '/home/weeding/WeedRobot/VimbaX_2023-4/cti']"
   ]
  },
  {
   "cell_type": "markdown",
   "metadata": {},
   "source": [
    "## set params"
   ]
  },
  {
   "cell_type": "markdown",
   "metadata": {},
   "source": [
    "https://stackoverflow.com/questions/75094045/how-to-make-frame-rate-constant-of-allied-vision-camera-using-vimba-sdk"
   ]
  },
  {
   "cell_type": "markdown",
   "metadata": {},
   "source": [
    "## need USB 3.0 or higher"
   ]
  },
  {
   "cell_type": "markdown",
   "metadata": {},
   "source": [
    "# Remote"
   ]
  },
  {
   "cell_type": "markdown",
   "metadata": {},
   "source": [
    "sudo apt install ./anydesk_6.3.2-1_amd64.deb "
   ]
  },
  {
   "cell_type": "markdown",
   "metadata": {},
   "source": [
    "# Detection"
   ]
  },
  {
   "cell_type": "markdown",
   "metadata": {},
   "source": [
    "install pytorch"
   ]
  },
  {
   "cell_type": "markdown",
   "metadata": {},
   "source": [
    "requirements: Ultralytics requirement ['lapx>=0.5.2'] not found, attempting AutoUpdate...\n",
    "\n",
    "requirements: ❌ AutoUpdate skipped (offline)\n",
    "\n",
    "No module named 'lap'\n",
    "\n",
    "pip install lapx\n"
   ]
  },
  {
   "cell_type": "markdown",
   "metadata": {},
   "source": [
    "# GPU Driver"
   ]
  },
  {
   "cell_type": "markdown",
   "metadata": {},
   "source": [
    "import torch\n",
    "'cuda' if torch.cuda.is_available() else 'cpu'"
   ]
  },
  {
   "cell_type": "markdown",
   "metadata": {},
   "source": [
    "add a physical GPU t the PC"
   ]
  },
  {
   "cell_type": "markdown",
   "metadata": {},
   "source": [
    "# Amiga"
   ]
  },
  {
   "cell_type": "markdown",
   "metadata": {},
   "source": [
    "/home/weeding/WeedRobot/amiga-dev-kit/"
   ]
  },
  {
   "cell_type": "markdown",
   "metadata": {},
   "source": [
    "ls /dev/ttyACM*"
   ]
  },
  {
   "cell_type": "markdown",
   "metadata": {},
   "source": [
    "From amiga-dev-kit/circuitpy/, drop the code.py file and the lib/ folder directly into the root of the mounted CIRCUITPY drive, as seen below."
   ]
  },
  {
   "cell_type": "markdown",
   "metadata": {},
   "source": [
    "sudo apt purge modemmanager"
   ]
  },
  {
   "cell_type": "markdown",
   "metadata": {},
   "source": [
    "need permision for the port\n",
    "\n",
    "sudo chmod a+rw /dev/ttyACM2\n",
    "\n",
    "screen /dev/ttyACM2 115200"
   ]
  },
  {
   "cell_type": "markdown",
   "metadata": {},
   "source": [
    "screen -ls\n",
    "\n",
    "screen -XS [pid] quit\n",
    "\n",
    "ctrl+a,d detach session\n",
    "\n",
    "ctrl+a,k kill session"
   ]
  },
  {
   "cell_type": "markdown",
   "metadata": {},
   "source": [
    "Auto-reload is on. Simply save files over USB to run them or enter REPL to disable.\n",
    "\n",
    "Press any key to enter the REPL. Use CTRL-D to reload.\n"
   ]
  },
  {
   "cell_type": "markdown",
   "metadata": {},
   "source": [
    "The CIRCUITPY drive is typically writable by your computer; this is what allows you to edit your code directly on the board. The reason you need a boot.py file is that you have to set the filesystem to be read-only by your computer to allow it to be writable by CircuitPython. This is because CircuitPython cannot write to the filesystem at the same time as your computer. Doing so can lead to filesystem corruption and loss of all content on the drive, so CircuitPython is designed to only allow one at at time."
   ]
  },
  {
   "cell_type": "markdown",
   "metadata": {},
   "source": [
    "## Warning"
   ]
  },
  {
   "cell_type": "markdown",
   "metadata": {},
   "source": [
    "You can only have either your computer edit the CIRCUITPY drive files, or CircuitPython. You cannot have both write to the drive at the same time. (Bad Things Will Happen so we do not allow you to do it!)"
   ]
  },
  {
   "cell_type": "markdown",
   "metadata": {},
   "source": [
    "## Examples"
   ]
  },
  {
   "cell_type": "markdown",
   "metadata": {},
   "source": [
    "https://github.com/Neradoc/circuitpython-sample-scripts/blob/main/usb_serial/README.md"
   ]
  },
  {
   "cell_type": "markdown",
   "metadata": {},
   "source": [
    "https://learn.adafruit.com/diy-trinkey-no-solder-air-quality-monitor/circuitpython"
   ]
  },
  {
   "cell_type": "markdown",
   "metadata": {},
   "source": [
    "## Save file"
   ]
  },
  {
   "cell_type": "markdown",
   "metadata": {},
   "source": [
    "https://learn.adafruit.com/circuitpython-essentials/circuitpython-storage"
   ]
  },
  {
   "cell_type": "markdown",
   "metadata": {},
   "source": [
    "https://github.com/todbot/hidapitester"
   ]
  },
  {
   "cell_type": "markdown",
   "metadata": {},
   "source": [
    "1) save to file \n",
    "2) send by serial port\n",
    "3) log screen session "
   ]
  },
  {
   "cell_type": "code",
   "execution_count": null,
   "metadata": {},
   "outputs": [],
   "source": [
    "sudo screen -L -Logfile /home/weeding/WeedRobot/farmng_amigacontrol/amiga_control/states.txt /dev/ttyACM2 115200"
   ]
  },
  {
   "cell_type": "markdown",
   "metadata": {},
   "source": [
    "## Reset"
   ]
  },
  {
   "cell_type": "code",
   "execution_count": null,
   "metadata": {},
   "outputs": [],
   "source": [
    "import storage\n",
    "\n",
    "storage.erase_filesystem()"
   ]
  },
  {
   "cell_type": "markdown",
   "metadata": {},
   "source": [
    "# QT issues"
   ]
  },
  {
   "cell_type": "markdown",
   "metadata": {},
   "source": [
    "qt.qpa.plugin: Could not load the Qt platform plugin \"xcb\" in \"/home/weeding/anaconda3/envs/sprayer/lib/python3.8/site-packages/cv2/qt/plugins\" even though it was found.\n",
    "This application failed to start because no Qt platform plugin could be initialized. Reinstalling the application may fix this problem.\n",
    "\n",
    "Available platform plugins are: xcb, eglfs, linuxfb, minimal, minimalegl, offscreen, vnc, wayland-egl, wayland, wayland-xcomposite-egl, wayland-xcomposite-glx, webgl.\n",
    "\n",
    "pip install opencv-python-headless==4.5.3.56"
   ]
  },
  {
   "cell_type": "markdown",
   "metadata": {},
   "source": [
    "## ui to python code"
   ]
  },
  {
   "cell_type": "markdown",
   "metadata": {},
   "source": [
    "pyuic5.exe -x C:\\Repo\\farmng_amigacontrol\\gui\\MyWeed.ui -o C:\\Repo\\farmng_amigacontrol\\gui\\MyWeed.py"
   ]
  },
  {
   "cell_type": "markdown",
   "metadata": {},
   "source": [
    "# Herbicide"
   ]
  },
  {
   "cell_type": "markdown",
   "metadata": {},
   "source": [
    "contact herbicide\n",
    "\n",
    "systematic herbicide\n",
    "\n",
    "Herbicide activity can be either selective or non-selective. Selective herbicides are used to kill weeds without significant damage to desirable plants. Nonselective herbicides kill or injure all plants present if applied at an adequate rate.\n",
    "\n",
    "The only way to focus the chemicals on the weeds is by ensuring the weedkiller only contacts those plants. Weedkiller does not differentiate between weeds and vegetables as a rule. If you keep digging them out and stop them developing they will eventually die. It will take a few seasons."
   ]
  },
  {
   "cell_type": "markdown",
   "metadata": {},
   "source": [
    "# Detection"
   ]
  },
  {
   "cell_type": "markdown",
   "metadata": {},
   "source": [
    "## change confidence in prediction"
   ]
  },
  {
   "cell_type": "code",
   "execution_count": null,
   "metadata": {},
   "outputs": [],
   "source": [
    "    @smart_inference_mode()\n",
    "    def predict(self, source=None, stream=False, **kwargs):\n",
    "        \"\"\"\n",
    "        Perform prediction using the YOLO model.\n",
    "\n",
    "        Args:\n",
    "            source (str | int | PIL | np.ndarray): The source of the image to make predictions on.\n",
    "                          Accepts all source types accepted by the YOLO model.\n",
    "            stream (bool): Whether to stream the predictions or not. Defaults to False.\n",
    "            **kwargs : Additional keyword arguments passed to the predictor.\n",
    "                       Check the 'configuration' section in the documentation for all available options.\n",
    "\n",
    "        Returns:\n",
    "            (List[ultralytics.yolo.engine.results.Results]): The prediction results.\n",
    "        \"\"\"\n",
    "        if source is None:\n",
    "            source = ROOT / 'assets' if is_git_dir() else 'https://ultralytics.com/images/bus.jpg'\n",
    "            LOGGER.warning(f\"WARNING ⚠️ 'source' is missing. Using 'source={source}'.\")\n",
    "        is_cli = (sys.argv[0].endswith('yolo') or sys.argv[0].endswith('ultralytics')) and \\\n",
    "                 ('predict' in sys.argv or 'mode=predict' in sys.argv)\n",
    "\n",
    "        overrides = self.overrides.copy()\n",
    "        overrides['conf'] = cfg_tot.pred_bbox_conf"
   ]
  },
  {
   "cell_type": "markdown",
   "metadata": {},
   "source": [
    "# Ubuntu Monitor Resolution"
   ]
  },
  {
   "cell_type": "markdown",
   "metadata": {},
   "source": [
    "nvidia-smi\n",
    "NVIDIA-SMI has failed because it couldn't communicate with the NVIDIA driver. Make sure that the latest NVIDIA driver is installed and running."
   ]
  },
  {
   "cell_type": "markdown",
   "metadata": {},
   "source": [
    "https://superuser.com/questions/603528/how-to-get-the-current-monitor-resolution-or-monitor-name-lvds-vga1-etc"
   ]
  },
  {
   "cell_type": "markdown",
   "metadata": {},
   "source": [
    "xrandr | grep -w connected  | awk -F'[ \\+]' '{print $1,$3,$4}'\n",
    "\n",
    "XWAYLAND0 primary 800x600"
   ]
  },
  {
   "cell_type": "markdown",
   "metadata": {},
   "source": [
    "https://superuser.com/questions/758463/getting-1920x1080-resolution-or-169-aspect-ratio-on-ubuntu-or-linux-mint"
   ]
  },
  {
   "cell_type": "markdown",
   "metadata": {},
   "source": [
    "xrandr --newmode \"1920x1080\"  173.00  1920 2048 2248 2576  1080 1083 1088 1120 -hsync +vsync\n",
    "\n",
    "xrandr --addmode XWAYLAND0 1920x1080\n",
    "\n",
    "xrandr --output XWAYLAND0 --mode 1920x1080"
   ]
  },
  {
   "cell_type": "markdown",
   "metadata": {},
   "source": [
    "sudo gedit /etc/X11/xorg.conf.d/10-monitor.conf\n"
   ]
  },
  {
   "cell_type": "markdown",
   "metadata": {},
   "source": [
    "After installing Anydesk on my Ubuntu 18.04 server and trying to connect from a Mac, I would get a display_server_not_supported error. I was able to resolve this by going into the /etc/gdm3/custom.conf file and changing:\n",
    "\n",
    "[daemon]\n",
    "    WaylandEnable=false\n",
    "    # Enabling automatic login\n",
    "    AutomaticLoginEnable=true\n",
    "    AutomaticLogin=$USERNAME\n",
    "\n",
    "After rebooting the Ubuntu server, Anydesk now connects and shows the login screen and I can login just fine.\n",
    "\n",
    "cat /proc/driver/nvidia/version\n",
    "\n",
    "ubuntu-drivers devices\n",
    "\n",
    "apt search nvidia-driver\n",
    "\n",
    "sudo apt-get purge nvidia-*\n",
    "\n",
    "sudo apt-get update\n",
    "\n",
    "sudo apt-get autoremove\n",
    "\n",
    "sudo add-apt-repository ppa:graphics-drivers/ppa --yes\n",
    "\n",
    "sudo apt update\n",
    "\n",
    "sudo apt install nvidia-driver-535\n",
    "\n",
    "sudo apt install nvidia-cuda-toolkit\n",
    "\n",
    "sudo sh NVIDIA-Linux-x86_64-535.xx.xx.run --dkms\n",
    "–dkms\n",
    "nvidia-installer can optionally register the NVIDIA kernel module sources, if installed, with DKMS, then build and install a kernel module using the DKMS-registered sources. This will allow the DKMS infrastructure to automatically build a new kernel module when changing kernels. \n",
    "\n",
    "If your nvidia-smi failed to communicate but you've installed the driver so many times, check prime-select\n",
    "Run prime-select query to get all possible options. You should see at least nvidia | intel.\n",
    "Choose prime-select nvidia.\n",
    "If it says nvidia is already selected, select a different one, e.g. prime-select intel, then switch back to nvidia prime-select nvidia\n",
    "Reboot and check nvidia-smi.\n",
    "\n",
    "Secure Boot?"
   ]
  },
  {
   "cell_type": "markdown",
   "metadata": {},
   "source": [
    "## It works"
   ]
  },
  {
   "cell_type": "markdown",
   "metadata": {},
   "source": [
    "apt search nvidia-driver\n",
    "\n",
    "sudo apt reinstall nvidia-driver-535"
   ]
  }
 ],
 "metadata": {
  "kernelspec": {
   "display_name": "label",
   "language": "python",
   "name": "python3"
  },
  "language_info": {
   "name": "python",
   "version": "3.8.19"
  }
 },
 "nbformat": 4,
 "nbformat_minor": 2
}
